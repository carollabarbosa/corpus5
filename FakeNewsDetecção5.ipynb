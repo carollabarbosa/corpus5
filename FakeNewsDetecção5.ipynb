{
  "nbformat": 4,
  "nbformat_minor": 0,
  "metadata": {
    "colab": {
      "provenance": []
    },
    "kernelspec": {
      "name": "python3",
      "display_name": "Python 3"
    },
    "language_info": {
      "name": "python"
    }
  },
  "cells": [
    {
      "cell_type": "code",
      "execution_count": 82,
      "metadata": {
        "id": "YMRXGjALISB7",
        "colab": {
          "base_uri": "https://localhost:8080/"
        },
        "outputId": "6557f3d9-2c90-4927-f09b-673bd469ec21"
      },
      "outputs": [
        {
          "output_type": "stream",
          "name": "stdout",
          "text": [
            "Looking in indexes: https://pypi.org/simple, https://us-python.pkg.dev/colab-wheels/public/simple/\n",
            "Requirement already satisfied: sklearn in /usr/local/lib/python3.7/dist-packages (0.0)\n",
            "Requirement already satisfied: scikit-learn in /usr/local/lib/python3.7/dist-packages (from sklearn) (1.0.2)\n",
            "Requirement already satisfied: scipy>=1.1.0 in /usr/local/lib/python3.7/dist-packages (from scikit-learn->sklearn) (1.7.3)\n",
            "Requirement already satisfied: numpy>=1.14.6 in /usr/local/lib/python3.7/dist-packages (from scikit-learn->sklearn) (1.21.6)\n",
            "Requirement already satisfied: threadpoolctl>=2.0.0 in /usr/local/lib/python3.7/dist-packages (from scikit-learn->sklearn) (3.1.0)\n",
            "Requirement already satisfied: joblib>=0.11 in /usr/local/lib/python3.7/dist-packages (from scikit-learn->sklearn) (1.1.0)\n",
            "Looking in indexes: https://pypi.org/simple, https://us-python.pkg.dev/colab-wheels/public/simple/\n",
            "Requirement already satisfied: numpy in /usr/local/lib/python3.7/dist-packages (1.21.6)\n",
            "Looking in indexes: https://pypi.org/simple, https://us-python.pkg.dev/colab-wheels/public/simple/\n",
            "Requirement already satisfied: pandas in /usr/local/lib/python3.7/dist-packages (1.3.5)\n",
            "Requirement already satisfied: pytz>=2017.3 in /usr/local/lib/python3.7/dist-packages (from pandas) (2022.2.1)\n",
            "Requirement already satisfied: numpy>=1.17.3 in /usr/local/lib/python3.7/dist-packages (from pandas) (1.21.6)\n",
            "Requirement already satisfied: python-dateutil>=2.7.3 in /usr/local/lib/python3.7/dist-packages (from pandas) (2.8.2)\n",
            "Requirement already satisfied: six>=1.5 in /usr/local/lib/python3.7/dist-packages (from python-dateutil>=2.7.3->pandas) (1.15.0)\n"
          ]
        }
      ],
      "source": [
        "!pip3 install sklearn\n",
        "!pip3 install numpy\n",
        "!pip3 install pandas"
      ]
    },
    {
      "cell_type": "code",
      "source": [
        "import pandas as pd\n",
        "import numpy as np\n",
        "from sklearn.model_selection import train_test_split\n",
        "from sklearn.metrics import classification_report\n",
        "import re\n",
        "import string"
      ],
      "metadata": {
        "id": "FWfboOHQokQ0"
      },
      "execution_count": 83,
      "outputs": []
    },
    {
      "cell_type": "code",
      "source": [
        "fake_news = pd.read_csv('/content/drive/MyDrive/Colab Notebooks/FakeTrue/Fake5.csv')\n",
        "true_news = pd.read_csv('/content/drive/MyDrive/Colab Notebooks/FakeTrue/True5.csv')"
      ],
      "metadata": {
        "id": "Dot5mzGqp8YN"
      },
      "execution_count": 84,
      "outputs": []
    },
    {
      "cell_type": "code",
      "source": [
        "fake_news.head()"
      ],
      "metadata": {
        "colab": {
          "base_uri": "https://localhost:8080/",
          "height": 206
        },
        "id": "G7z4lKEVqZeK",
        "outputId": "94ea0456-633f-40f3-e486-3c7e96b8f37b"
      },
      "execution_count": 85,
      "outputs": [
        {
          "output_type": "execute_result",
          "data": {
            "text/plain": [
              "                                               title  \\\n",
              "0  O ministro da saúde de Israel contraiu o coron...   \n",
              "1   Carlos Bolsonaro publicou em seu perfil do Tw...   \n",
              "2  A Igreja Universal está vendendo álcool ungido...   \n",
              "3  Os EUA prenderam o doutor que vendeu o coronav...   \n",
              "4  termo “Black Friday” nasceu na época da escrav...   \n",
              "\n",
              "                                                text   source         subject  \\\n",
              "0   Segundo o Times of Israel, Litzman teria queb...  E-Farsa        Político   \n",
              "1  Acontece que a foto não foi publicada por Carl...  E-Farsa        Político   \n",
              "2  No mesmo dia em que o assunto se tornou famoso...  E-Farsa       Religioso   \n",
              "3  O doutor Charles Lieber foi realmente preso em...  E-Farsa        Político   \n",
              "4  As origens desse boato são indeterminadas. Enc...  E-Farsa  Entretenimento   \n",
              "\n",
              "   target label  \n",
              "0   Falso  FAKE  \n",
              "1   Falso  FAKE  \n",
              "2   Falso  FAKE  \n",
              "3   Falso  FAKE  \n",
              "4   Falso  FAKE  "
            ],
            "text/html": [
              "\n",
              "  <div id=\"df-fafa6250-36fa-45fe-b01c-e97c0f86fa9d\">\n",
              "    <div class=\"colab-df-container\">\n",
              "      <div>\n",
              "<style scoped>\n",
              "    .dataframe tbody tr th:only-of-type {\n",
              "        vertical-align: middle;\n",
              "    }\n",
              "\n",
              "    .dataframe tbody tr th {\n",
              "        vertical-align: top;\n",
              "    }\n",
              "\n",
              "    .dataframe thead th {\n",
              "        text-align: right;\n",
              "    }\n",
              "</style>\n",
              "<table border=\"1\" class=\"dataframe\">\n",
              "  <thead>\n",
              "    <tr style=\"text-align: right;\">\n",
              "      <th></th>\n",
              "      <th>title</th>\n",
              "      <th>text</th>\n",
              "      <th>source</th>\n",
              "      <th>subject</th>\n",
              "      <th>target</th>\n",
              "      <th>label</th>\n",
              "    </tr>\n",
              "  </thead>\n",
              "  <tbody>\n",
              "    <tr>\n",
              "      <th>0</th>\n",
              "      <td>O ministro da saúde de Israel contraiu o coron...</td>\n",
              "      <td>Segundo o Times of Israel, Litzman teria queb...</td>\n",
              "      <td>E-Farsa</td>\n",
              "      <td>Político</td>\n",
              "      <td>Falso</td>\n",
              "      <td>FAKE</td>\n",
              "    </tr>\n",
              "    <tr>\n",
              "      <th>1</th>\n",
              "      <td>Carlos Bolsonaro publicou em seu perfil do Tw...</td>\n",
              "      <td>Acontece que a foto não foi publicada por Carl...</td>\n",
              "      <td>E-Farsa</td>\n",
              "      <td>Político</td>\n",
              "      <td>Falso</td>\n",
              "      <td>FAKE</td>\n",
              "    </tr>\n",
              "    <tr>\n",
              "      <th>2</th>\n",
              "      <td>A Igreja Universal está vendendo álcool ungido...</td>\n",
              "      <td>No mesmo dia em que o assunto se tornou famoso...</td>\n",
              "      <td>E-Farsa</td>\n",
              "      <td>Religioso</td>\n",
              "      <td>Falso</td>\n",
              "      <td>FAKE</td>\n",
              "    </tr>\n",
              "    <tr>\n",
              "      <th>3</th>\n",
              "      <td>Os EUA prenderam o doutor que vendeu o coronav...</td>\n",
              "      <td>O doutor Charles Lieber foi realmente preso em...</td>\n",
              "      <td>E-Farsa</td>\n",
              "      <td>Político</td>\n",
              "      <td>Falso</td>\n",
              "      <td>FAKE</td>\n",
              "    </tr>\n",
              "    <tr>\n",
              "      <th>4</th>\n",
              "      <td>termo “Black Friday” nasceu na época da escrav...</td>\n",
              "      <td>As origens desse boato são indeterminadas. Enc...</td>\n",
              "      <td>E-Farsa</td>\n",
              "      <td>Entretenimento</td>\n",
              "      <td>Falso</td>\n",
              "      <td>FAKE</td>\n",
              "    </tr>\n",
              "  </tbody>\n",
              "</table>\n",
              "</div>\n",
              "      <button class=\"colab-df-convert\" onclick=\"convertToInteractive('df-fafa6250-36fa-45fe-b01c-e97c0f86fa9d')\"\n",
              "              title=\"Convert this dataframe to an interactive table.\"\n",
              "              style=\"display:none;\">\n",
              "        \n",
              "  <svg xmlns=\"http://www.w3.org/2000/svg\" height=\"24px\"viewBox=\"0 0 24 24\"\n",
              "       width=\"24px\">\n",
              "    <path d=\"M0 0h24v24H0V0z\" fill=\"none\"/>\n",
              "    <path d=\"M18.56 5.44l.94 2.06.94-2.06 2.06-.94-2.06-.94-.94-2.06-.94 2.06-2.06.94zm-11 1L8.5 8.5l.94-2.06 2.06-.94-2.06-.94L8.5 2.5l-.94 2.06-2.06.94zm10 10l.94 2.06.94-2.06 2.06-.94-2.06-.94-.94-2.06-.94 2.06-2.06.94z\"/><path d=\"M17.41 7.96l-1.37-1.37c-.4-.4-.92-.59-1.43-.59-.52 0-1.04.2-1.43.59L10.3 9.45l-7.72 7.72c-.78.78-.78 2.05 0 2.83L4 21.41c.39.39.9.59 1.41.59.51 0 1.02-.2 1.41-.59l7.78-7.78 2.81-2.81c.8-.78.8-2.07 0-2.86zM5.41 20L4 18.59l7.72-7.72 1.47 1.35L5.41 20z\"/>\n",
              "  </svg>\n",
              "      </button>\n",
              "      \n",
              "  <style>\n",
              "    .colab-df-container {\n",
              "      display:flex;\n",
              "      flex-wrap:wrap;\n",
              "      gap: 12px;\n",
              "    }\n",
              "\n",
              "    .colab-df-convert {\n",
              "      background-color: #E8F0FE;\n",
              "      border: none;\n",
              "      border-radius: 50%;\n",
              "      cursor: pointer;\n",
              "      display: none;\n",
              "      fill: #1967D2;\n",
              "      height: 32px;\n",
              "      padding: 0 0 0 0;\n",
              "      width: 32px;\n",
              "    }\n",
              "\n",
              "    .colab-df-convert:hover {\n",
              "      background-color: #E2EBFA;\n",
              "      box-shadow: 0px 1px 2px rgba(60, 64, 67, 0.3), 0px 1px 3px 1px rgba(60, 64, 67, 0.15);\n",
              "      fill: #174EA6;\n",
              "    }\n",
              "\n",
              "    [theme=dark] .colab-df-convert {\n",
              "      background-color: #3B4455;\n",
              "      fill: #D2E3FC;\n",
              "    }\n",
              "\n",
              "    [theme=dark] .colab-df-convert:hover {\n",
              "      background-color: #434B5C;\n",
              "      box-shadow: 0px 1px 3px 1px rgba(0, 0, 0, 0.15);\n",
              "      filter: drop-shadow(0px 1px 2px rgba(0, 0, 0, 0.3));\n",
              "      fill: #FFFFFF;\n",
              "    }\n",
              "  </style>\n",
              "\n",
              "      <script>\n",
              "        const buttonEl =\n",
              "          document.querySelector('#df-fafa6250-36fa-45fe-b01c-e97c0f86fa9d button.colab-df-convert');\n",
              "        buttonEl.style.display =\n",
              "          google.colab.kernel.accessAllowed ? 'block' : 'none';\n",
              "\n",
              "        async function convertToInteractive(key) {\n",
              "          const element = document.querySelector('#df-fafa6250-36fa-45fe-b01c-e97c0f86fa9d');\n",
              "          const dataTable =\n",
              "            await google.colab.kernel.invokeFunction('convertToInteractive',\n",
              "                                                     [key], {});\n",
              "          if (!dataTable) return;\n",
              "\n",
              "          const docLinkHtml = 'Like what you see? Visit the ' +\n",
              "            '<a target=\"_blank\" href=https://colab.research.google.com/notebooks/data_table.ipynb>data table notebook</a>'\n",
              "            + ' to learn more about interactive tables.';\n",
              "          element.innerHTML = '';\n",
              "          dataTable['output_type'] = 'display_data';\n",
              "          await google.colab.output.renderOutput(dataTable, element);\n",
              "          const docLink = document.createElement('div');\n",
              "          docLink.innerHTML = docLinkHtml;\n",
              "          element.appendChild(docLink);\n",
              "        }\n",
              "      </script>\n",
              "    </div>\n",
              "  </div>\n",
              "  "
            ]
          },
          "metadata": {},
          "execution_count": 85
        }
      ]
    },
    {
      "cell_type": "code",
      "source": [
        "true_news.head()"
      ],
      "metadata": {
        "colab": {
          "base_uri": "https://localhost:8080/",
          "height": 206
        },
        "id": "Rz_FQ_0xqbif",
        "outputId": "c487aa9d-120d-413c-c5d8-8887e0970b9b"
      },
      "execution_count": 86,
      "outputs": [
        {
          "output_type": "execute_result",
          "data": {
            "text/plain": [
              "                                               title  \\\n",
              "0  É verdade que Lula se manifestou contra a inva...   \n",
              "1   PSOL se posicionou contra a lei 2.016/2015, c...   \n",
              "2  Tebet e Lula pedem que TSE remova campanha vei...   \n",
              "3  Português descobre caixa torácica de dinossaur...   \n",
              "4  Onda de calor extremo na Europa será padrão at...   \n",
              "\n",
              "                                                text      source  \\\n",
              "0  É verdade que Lula se manifestou contra a inva...  Aos  Fatos   \n",
              "1  Desde o início, o PSOL se posicionou contra a ...   Aos Fatos   \n",
              "2  A campanha de Simone Tebet (MDB) e candidato p...         CNN   \n",
              "3  No início de agosto, uma equipe de pesquisador...         CNN   \n",
              "4  A onda de calor recorde que varreu a Europa es...         CNN   \n",
              "\n",
              "          subject      target  label  \n",
              "0        Político  Verdadeiro   True  \n",
              "1        Político  Verdadeiro   True  \n",
              "2        Político  Verdadeiro   True  \n",
              "3  Entretenimento  Verdadeiro   True  \n",
              "4  Entretenimento  Verdadeiro   True  "
            ],
            "text/html": [
              "\n",
              "  <div id=\"df-948947b6-fc08-46d5-b3fa-6143e55b8d28\">\n",
              "    <div class=\"colab-df-container\">\n",
              "      <div>\n",
              "<style scoped>\n",
              "    .dataframe tbody tr th:only-of-type {\n",
              "        vertical-align: middle;\n",
              "    }\n",
              "\n",
              "    .dataframe tbody tr th {\n",
              "        vertical-align: top;\n",
              "    }\n",
              "\n",
              "    .dataframe thead th {\n",
              "        text-align: right;\n",
              "    }\n",
              "</style>\n",
              "<table border=\"1\" class=\"dataframe\">\n",
              "  <thead>\n",
              "    <tr style=\"text-align: right;\">\n",
              "      <th></th>\n",
              "      <th>title</th>\n",
              "      <th>text</th>\n",
              "      <th>source</th>\n",
              "      <th>subject</th>\n",
              "      <th>target</th>\n",
              "      <th>label</th>\n",
              "    </tr>\n",
              "  </thead>\n",
              "  <tbody>\n",
              "    <tr>\n",
              "      <th>0</th>\n",
              "      <td>É verdade que Lula se manifestou contra a inva...</td>\n",
              "      <td>É verdade que Lula se manifestou contra a inva...</td>\n",
              "      <td>Aos  Fatos</td>\n",
              "      <td>Político</td>\n",
              "      <td>Verdadeiro</td>\n",
              "      <td>True</td>\n",
              "    </tr>\n",
              "    <tr>\n",
              "      <th>1</th>\n",
              "      <td>PSOL se posicionou contra a lei 2.016/2015, c...</td>\n",
              "      <td>Desde o início, o PSOL se posicionou contra a ...</td>\n",
              "      <td>Aos Fatos</td>\n",
              "      <td>Político</td>\n",
              "      <td>Verdadeiro</td>\n",
              "      <td>True</td>\n",
              "    </tr>\n",
              "    <tr>\n",
              "      <th>2</th>\n",
              "      <td>Tebet e Lula pedem que TSE remova campanha vei...</td>\n",
              "      <td>A campanha de Simone Tebet (MDB) e candidato p...</td>\n",
              "      <td>CNN</td>\n",
              "      <td>Político</td>\n",
              "      <td>Verdadeiro</td>\n",
              "      <td>True</td>\n",
              "    </tr>\n",
              "    <tr>\n",
              "      <th>3</th>\n",
              "      <td>Português descobre caixa torácica de dinossaur...</td>\n",
              "      <td>No início de agosto, uma equipe de pesquisador...</td>\n",
              "      <td>CNN</td>\n",
              "      <td>Entretenimento</td>\n",
              "      <td>Verdadeiro</td>\n",
              "      <td>True</td>\n",
              "    </tr>\n",
              "    <tr>\n",
              "      <th>4</th>\n",
              "      <td>Onda de calor extremo na Europa será padrão at...</td>\n",
              "      <td>A onda de calor recorde que varreu a Europa es...</td>\n",
              "      <td>CNN</td>\n",
              "      <td>Entretenimento</td>\n",
              "      <td>Verdadeiro</td>\n",
              "      <td>True</td>\n",
              "    </tr>\n",
              "  </tbody>\n",
              "</table>\n",
              "</div>\n",
              "      <button class=\"colab-df-convert\" onclick=\"convertToInteractive('df-948947b6-fc08-46d5-b3fa-6143e55b8d28')\"\n",
              "              title=\"Convert this dataframe to an interactive table.\"\n",
              "              style=\"display:none;\">\n",
              "        \n",
              "  <svg xmlns=\"http://www.w3.org/2000/svg\" height=\"24px\"viewBox=\"0 0 24 24\"\n",
              "       width=\"24px\">\n",
              "    <path d=\"M0 0h24v24H0V0z\" fill=\"none\"/>\n",
              "    <path d=\"M18.56 5.44l.94 2.06.94-2.06 2.06-.94-2.06-.94-.94-2.06-.94 2.06-2.06.94zm-11 1L8.5 8.5l.94-2.06 2.06-.94-2.06-.94L8.5 2.5l-.94 2.06-2.06.94zm10 10l.94 2.06.94-2.06 2.06-.94-2.06-.94-.94-2.06-.94 2.06-2.06.94z\"/><path d=\"M17.41 7.96l-1.37-1.37c-.4-.4-.92-.59-1.43-.59-.52 0-1.04.2-1.43.59L10.3 9.45l-7.72 7.72c-.78.78-.78 2.05 0 2.83L4 21.41c.39.39.9.59 1.41.59.51 0 1.02-.2 1.41-.59l7.78-7.78 2.81-2.81c.8-.78.8-2.07 0-2.86zM5.41 20L4 18.59l7.72-7.72 1.47 1.35L5.41 20z\"/>\n",
              "  </svg>\n",
              "      </button>\n",
              "      \n",
              "  <style>\n",
              "    .colab-df-container {\n",
              "      display:flex;\n",
              "      flex-wrap:wrap;\n",
              "      gap: 12px;\n",
              "    }\n",
              "\n",
              "    .colab-df-convert {\n",
              "      background-color: #E8F0FE;\n",
              "      border: none;\n",
              "      border-radius: 50%;\n",
              "      cursor: pointer;\n",
              "      display: none;\n",
              "      fill: #1967D2;\n",
              "      height: 32px;\n",
              "      padding: 0 0 0 0;\n",
              "      width: 32px;\n",
              "    }\n",
              "\n",
              "    .colab-df-convert:hover {\n",
              "      background-color: #E2EBFA;\n",
              "      box-shadow: 0px 1px 2px rgba(60, 64, 67, 0.3), 0px 1px 3px 1px rgba(60, 64, 67, 0.15);\n",
              "      fill: #174EA6;\n",
              "    }\n",
              "\n",
              "    [theme=dark] .colab-df-convert {\n",
              "      background-color: #3B4455;\n",
              "      fill: #D2E3FC;\n",
              "    }\n",
              "\n",
              "    [theme=dark] .colab-df-convert:hover {\n",
              "      background-color: #434B5C;\n",
              "      box-shadow: 0px 1px 3px 1px rgba(0, 0, 0, 0.15);\n",
              "      filter: drop-shadow(0px 1px 2px rgba(0, 0, 0, 0.3));\n",
              "      fill: #FFFFFF;\n",
              "    }\n",
              "  </style>\n",
              "\n",
              "      <script>\n",
              "        const buttonEl =\n",
              "          document.querySelector('#df-948947b6-fc08-46d5-b3fa-6143e55b8d28 button.colab-df-convert');\n",
              "        buttonEl.style.display =\n",
              "          google.colab.kernel.accessAllowed ? 'block' : 'none';\n",
              "\n",
              "        async function convertToInteractive(key) {\n",
              "          const element = document.querySelector('#df-948947b6-fc08-46d5-b3fa-6143e55b8d28');\n",
              "          const dataTable =\n",
              "            await google.colab.kernel.invokeFunction('convertToInteractive',\n",
              "                                                     [key], {});\n",
              "          if (!dataTable) return;\n",
              "\n",
              "          const docLinkHtml = 'Like what you see? Visit the ' +\n",
              "            '<a target=\"_blank\" href=https://colab.research.google.com/notebooks/data_table.ipynb>data table notebook</a>'\n",
              "            + ' to learn more about interactive tables.';\n",
              "          element.innerHTML = '';\n",
              "          dataTable['output_type'] = 'display_data';\n",
              "          await google.colab.output.renderOutput(dataTable, element);\n",
              "          const docLink = document.createElement('div');\n",
              "          docLink.innerHTML = docLinkHtml;\n",
              "          element.appendChild(docLink);\n",
              "        }\n",
              "      </script>\n",
              "    </div>\n",
              "  </div>\n",
              "  "
            ]
          },
          "metadata": {},
          "execution_count": 86
        }
      ]
    },
    {
      "cell_type": "code",
      "source": [
        "true_news.shape,fake_news.shape"
      ],
      "metadata": {
        "colab": {
          "base_uri": "https://localhost:8080/"
        },
        "id": "uYhMQbUKqeoc",
        "outputId": "a963d983-6390-481b-bc5c-1fe10766798c"
      },
      "execution_count": 87,
      "outputs": [
        {
          "output_type": "execute_result",
          "data": {
            "text/plain": [
              "((669, 6), (700, 6))"
            ]
          },
          "metadata": {},
          "execution_count": 87
        }
      ]
    },
    {
      "cell_type": "code",
      "source": [
        "fake_news['class']=0\n",
        "true_news['class']=1"
      ],
      "metadata": {
        "id": "nWHCH19nqlDo"
      },
      "execution_count": 88,
      "outputs": []
    },
    {
      "cell_type": "markdown",
      "source": [
        "**Separação de dados para testes manuais**"
      ],
      "metadata": {
        "id": "09tcZrfOz3xc"
      }
    },
    {
      "cell_type": "code",
      "source": [
        "manual_testing_fake = fake_news.tail(10)\n",
        "manual_testing_true = true_news.tail(10)"
      ],
      "metadata": {
        "id": "tnwScnFWqonl"
      },
      "execution_count": 89,
      "outputs": []
    },
    {
      "cell_type": "code",
      "source": [
        "for i in range(700,669,1):\n",
        "    fake_news.drop([i],axis=0,inplace=True)\n",
        "\n",
        "for i in range(669,700,1):\n",
        "    fake_news.drop([i],axis=0,inplace=True)"
      ],
      "metadata": {
        "id": "Mji9908YquZf"
      },
      "execution_count": 90,
      "outputs": []
    },
    {
      "cell_type": "code",
      "source": [
        "manual_testing=pd.concat([manual_testing_true,manual_testing_fake],axis=0)\n",
        "manual_testing.to_csv(\"/content/drive/MyDrive/Colab Notebooks/FakeTrue/test05.csv\")"
      ],
      "metadata": {
        "id": "D-BZUbrArNFh"
      },
      "execution_count": 91,
      "outputs": []
    },
    {
      "cell_type": "markdown",
      "source": [
        "Pré-processamento de dados"
      ],
      "metadata": {
        "id": "jDpCowZor74d"
      }
    },
    {
      "cell_type": "code",
      "source": [
        "merged_data = pd.concat([true_news,fake_news],axis=0)\n",
        "merged_data.head()"
      ],
      "metadata": {
        "colab": {
          "base_uri": "https://localhost:8080/",
          "height": 206
        },
        "id": "aVjGhcGLr3GH",
        "outputId": "87a30c2e-b19b-4849-f0c0-9a3a6b4eb691"
      },
      "execution_count": 92,
      "outputs": [
        {
          "output_type": "execute_result",
          "data": {
            "text/plain": [
              "                                               title  \\\n",
              "0  É verdade que Lula se manifestou contra a inva...   \n",
              "1   PSOL se posicionou contra a lei 2.016/2015, c...   \n",
              "2  Tebet e Lula pedem que TSE remova campanha vei...   \n",
              "3  Português descobre caixa torácica de dinossaur...   \n",
              "4  Onda de calor extremo na Europa será padrão at...   \n",
              "\n",
              "                                                text      source  \\\n",
              "0  É verdade que Lula se manifestou contra a inva...  Aos  Fatos   \n",
              "1  Desde o início, o PSOL se posicionou contra a ...   Aos Fatos   \n",
              "2  A campanha de Simone Tebet (MDB) e candidato p...         CNN   \n",
              "3  No início de agosto, uma equipe de pesquisador...         CNN   \n",
              "4  A onda de calor recorde que varreu a Europa es...         CNN   \n",
              "\n",
              "          subject      target label  class  target  \n",
              "0        Político  Verdadeiro  True      1     NaN  \n",
              "1        Político  Verdadeiro  True      1     NaN  \n",
              "2        Político  Verdadeiro  True      1     NaN  \n",
              "3  Entretenimento  Verdadeiro  True      1     NaN  \n",
              "4  Entretenimento  Verdadeiro  True      1     NaN  "
            ],
            "text/html": [
              "\n",
              "  <div id=\"df-5e6c0b90-afff-4dea-9a95-ebbc9e98cc30\">\n",
              "    <div class=\"colab-df-container\">\n",
              "      <div>\n",
              "<style scoped>\n",
              "    .dataframe tbody tr th:only-of-type {\n",
              "        vertical-align: middle;\n",
              "    }\n",
              "\n",
              "    .dataframe tbody tr th {\n",
              "        vertical-align: top;\n",
              "    }\n",
              "\n",
              "    .dataframe thead th {\n",
              "        text-align: right;\n",
              "    }\n",
              "</style>\n",
              "<table border=\"1\" class=\"dataframe\">\n",
              "  <thead>\n",
              "    <tr style=\"text-align: right;\">\n",
              "      <th></th>\n",
              "      <th>title</th>\n",
              "      <th>text</th>\n",
              "      <th>source</th>\n",
              "      <th>subject</th>\n",
              "      <th>target</th>\n",
              "      <th>label</th>\n",
              "      <th>class</th>\n",
              "      <th>target</th>\n",
              "    </tr>\n",
              "  </thead>\n",
              "  <tbody>\n",
              "    <tr>\n",
              "      <th>0</th>\n",
              "      <td>É verdade que Lula se manifestou contra a inva...</td>\n",
              "      <td>É verdade que Lula se manifestou contra a inva...</td>\n",
              "      <td>Aos  Fatos</td>\n",
              "      <td>Político</td>\n",
              "      <td>Verdadeiro</td>\n",
              "      <td>True</td>\n",
              "      <td>1</td>\n",
              "      <td>NaN</td>\n",
              "    </tr>\n",
              "    <tr>\n",
              "      <th>1</th>\n",
              "      <td>PSOL se posicionou contra a lei 2.016/2015, c...</td>\n",
              "      <td>Desde o início, o PSOL se posicionou contra a ...</td>\n",
              "      <td>Aos Fatos</td>\n",
              "      <td>Político</td>\n",
              "      <td>Verdadeiro</td>\n",
              "      <td>True</td>\n",
              "      <td>1</td>\n",
              "      <td>NaN</td>\n",
              "    </tr>\n",
              "    <tr>\n",
              "      <th>2</th>\n",
              "      <td>Tebet e Lula pedem que TSE remova campanha vei...</td>\n",
              "      <td>A campanha de Simone Tebet (MDB) e candidato p...</td>\n",
              "      <td>CNN</td>\n",
              "      <td>Político</td>\n",
              "      <td>Verdadeiro</td>\n",
              "      <td>True</td>\n",
              "      <td>1</td>\n",
              "      <td>NaN</td>\n",
              "    </tr>\n",
              "    <tr>\n",
              "      <th>3</th>\n",
              "      <td>Português descobre caixa torácica de dinossaur...</td>\n",
              "      <td>No início de agosto, uma equipe de pesquisador...</td>\n",
              "      <td>CNN</td>\n",
              "      <td>Entretenimento</td>\n",
              "      <td>Verdadeiro</td>\n",
              "      <td>True</td>\n",
              "      <td>1</td>\n",
              "      <td>NaN</td>\n",
              "    </tr>\n",
              "    <tr>\n",
              "      <th>4</th>\n",
              "      <td>Onda de calor extremo na Europa será padrão at...</td>\n",
              "      <td>A onda de calor recorde que varreu a Europa es...</td>\n",
              "      <td>CNN</td>\n",
              "      <td>Entretenimento</td>\n",
              "      <td>Verdadeiro</td>\n",
              "      <td>True</td>\n",
              "      <td>1</td>\n",
              "      <td>NaN</td>\n",
              "    </tr>\n",
              "  </tbody>\n",
              "</table>\n",
              "</div>\n",
              "      <button class=\"colab-df-convert\" onclick=\"convertToInteractive('df-5e6c0b90-afff-4dea-9a95-ebbc9e98cc30')\"\n",
              "              title=\"Convert this dataframe to an interactive table.\"\n",
              "              style=\"display:none;\">\n",
              "        \n",
              "  <svg xmlns=\"http://www.w3.org/2000/svg\" height=\"24px\"viewBox=\"0 0 24 24\"\n",
              "       width=\"24px\">\n",
              "    <path d=\"M0 0h24v24H0V0z\" fill=\"none\"/>\n",
              "    <path d=\"M18.56 5.44l.94 2.06.94-2.06 2.06-.94-2.06-.94-.94-2.06-.94 2.06-2.06.94zm-11 1L8.5 8.5l.94-2.06 2.06-.94-2.06-.94L8.5 2.5l-.94 2.06-2.06.94zm10 10l.94 2.06.94-2.06 2.06-.94-2.06-.94-.94-2.06-.94 2.06-2.06.94z\"/><path d=\"M17.41 7.96l-1.37-1.37c-.4-.4-.92-.59-1.43-.59-.52 0-1.04.2-1.43.59L10.3 9.45l-7.72 7.72c-.78.78-.78 2.05 0 2.83L4 21.41c.39.39.9.59 1.41.59.51 0 1.02-.2 1.41-.59l7.78-7.78 2.81-2.81c.8-.78.8-2.07 0-2.86zM5.41 20L4 18.59l7.72-7.72 1.47 1.35L5.41 20z\"/>\n",
              "  </svg>\n",
              "      </button>\n",
              "      \n",
              "  <style>\n",
              "    .colab-df-container {\n",
              "      display:flex;\n",
              "      flex-wrap:wrap;\n",
              "      gap: 12px;\n",
              "    }\n",
              "\n",
              "    .colab-df-convert {\n",
              "      background-color: #E8F0FE;\n",
              "      border: none;\n",
              "      border-radius: 50%;\n",
              "      cursor: pointer;\n",
              "      display: none;\n",
              "      fill: #1967D2;\n",
              "      height: 32px;\n",
              "      padding: 0 0 0 0;\n",
              "      width: 32px;\n",
              "    }\n",
              "\n",
              "    .colab-df-convert:hover {\n",
              "      background-color: #E2EBFA;\n",
              "      box-shadow: 0px 1px 2px rgba(60, 64, 67, 0.3), 0px 1px 3px 1px rgba(60, 64, 67, 0.15);\n",
              "      fill: #174EA6;\n",
              "    }\n",
              "\n",
              "    [theme=dark] .colab-df-convert {\n",
              "      background-color: #3B4455;\n",
              "      fill: #D2E3FC;\n",
              "    }\n",
              "\n",
              "    [theme=dark] .colab-df-convert:hover {\n",
              "      background-color: #434B5C;\n",
              "      box-shadow: 0px 1px 3px 1px rgba(0, 0, 0, 0.15);\n",
              "      filter: drop-shadow(0px 1px 2px rgba(0, 0, 0, 0.3));\n",
              "      fill: #FFFFFF;\n",
              "    }\n",
              "  </style>\n",
              "\n",
              "      <script>\n",
              "        const buttonEl =\n",
              "          document.querySelector('#df-5e6c0b90-afff-4dea-9a95-ebbc9e98cc30 button.colab-df-convert');\n",
              "        buttonEl.style.display =\n",
              "          google.colab.kernel.accessAllowed ? 'block' : 'none';\n",
              "\n",
              "        async function convertToInteractive(key) {\n",
              "          const element = document.querySelector('#df-5e6c0b90-afff-4dea-9a95-ebbc9e98cc30');\n",
              "          const dataTable =\n",
              "            await google.colab.kernel.invokeFunction('convertToInteractive',\n",
              "                                                     [key], {});\n",
              "          if (!dataTable) return;\n",
              "\n",
              "          const docLinkHtml = 'Like what you see? Visit the ' +\n",
              "            '<a target=\"_blank\" href=https://colab.research.google.com/notebooks/data_table.ipynb>data table notebook</a>'\n",
              "            + ' to learn more about interactive tables.';\n",
              "          element.innerHTML = '';\n",
              "          dataTable['output_type'] = 'display_data';\n",
              "          await google.colab.output.renderOutput(dataTable, element);\n",
              "          const docLink = document.createElement('div');\n",
              "          docLink.innerHTML = docLinkHtml;\n",
              "          element.appendChild(docLink);\n",
              "        }\n",
              "      </script>\n",
              "    </div>\n",
              "  </div>\n",
              "  "
            ]
          },
          "metadata": {},
          "execution_count": 92
        }
      ]
    },
    {
      "cell_type": "markdown",
      "source": [
        "remover colunas não necessárias para um processamento eficiente "
      ],
      "metadata": {
        "id": "Oun_9iz2sQW5"
      }
    },
    {
      "cell_type": "code",
      "source": [
        "required_df = merged_data.drop([\"title\",\"subject\",\"source\"],axis=1)\n",
        "required_df.head()"
      ],
      "metadata": {
        "colab": {
          "base_uri": "https://localhost:8080/",
          "height": 206
        },
        "id": "LEhA4HFusK3b",
        "outputId": "e4de4b21-20f8-4b23-fe0d-52f427552a6c"
      },
      "execution_count": 93,
      "outputs": [
        {
          "output_type": "execute_result",
          "data": {
            "text/plain": [
              "                                                text      target label  class  \\\n",
              "0  É verdade que Lula se manifestou contra a inva...  Verdadeiro  True      1   \n",
              "1  Desde o início, o PSOL se posicionou contra a ...  Verdadeiro  True      1   \n",
              "2  A campanha de Simone Tebet (MDB) e candidato p...  Verdadeiro  True      1   \n",
              "3  No início de agosto, uma equipe de pesquisador...  Verdadeiro  True      1   \n",
              "4  A onda de calor recorde que varreu a Europa es...  Verdadeiro  True      1   \n",
              "\n",
              "   target  \n",
              "0     NaN  \n",
              "1     NaN  \n",
              "2     NaN  \n",
              "3     NaN  \n",
              "4     NaN  "
            ],
            "text/html": [
              "\n",
              "  <div id=\"df-a503120d-0bcf-4929-ae6b-4f768d476326\">\n",
              "    <div class=\"colab-df-container\">\n",
              "      <div>\n",
              "<style scoped>\n",
              "    .dataframe tbody tr th:only-of-type {\n",
              "        vertical-align: middle;\n",
              "    }\n",
              "\n",
              "    .dataframe tbody tr th {\n",
              "        vertical-align: top;\n",
              "    }\n",
              "\n",
              "    .dataframe thead th {\n",
              "        text-align: right;\n",
              "    }\n",
              "</style>\n",
              "<table border=\"1\" class=\"dataframe\">\n",
              "  <thead>\n",
              "    <tr style=\"text-align: right;\">\n",
              "      <th></th>\n",
              "      <th>text</th>\n",
              "      <th>target</th>\n",
              "      <th>label</th>\n",
              "      <th>class</th>\n",
              "      <th>target</th>\n",
              "    </tr>\n",
              "  </thead>\n",
              "  <tbody>\n",
              "    <tr>\n",
              "      <th>0</th>\n",
              "      <td>É verdade que Lula se manifestou contra a inva...</td>\n",
              "      <td>Verdadeiro</td>\n",
              "      <td>True</td>\n",
              "      <td>1</td>\n",
              "      <td>NaN</td>\n",
              "    </tr>\n",
              "    <tr>\n",
              "      <th>1</th>\n",
              "      <td>Desde o início, o PSOL se posicionou contra a ...</td>\n",
              "      <td>Verdadeiro</td>\n",
              "      <td>True</td>\n",
              "      <td>1</td>\n",
              "      <td>NaN</td>\n",
              "    </tr>\n",
              "    <tr>\n",
              "      <th>2</th>\n",
              "      <td>A campanha de Simone Tebet (MDB) e candidato p...</td>\n",
              "      <td>Verdadeiro</td>\n",
              "      <td>True</td>\n",
              "      <td>1</td>\n",
              "      <td>NaN</td>\n",
              "    </tr>\n",
              "    <tr>\n",
              "      <th>3</th>\n",
              "      <td>No início de agosto, uma equipe de pesquisador...</td>\n",
              "      <td>Verdadeiro</td>\n",
              "      <td>True</td>\n",
              "      <td>1</td>\n",
              "      <td>NaN</td>\n",
              "    </tr>\n",
              "    <tr>\n",
              "      <th>4</th>\n",
              "      <td>A onda de calor recorde que varreu a Europa es...</td>\n",
              "      <td>Verdadeiro</td>\n",
              "      <td>True</td>\n",
              "      <td>1</td>\n",
              "      <td>NaN</td>\n",
              "    </tr>\n",
              "  </tbody>\n",
              "</table>\n",
              "</div>\n",
              "      <button class=\"colab-df-convert\" onclick=\"convertToInteractive('df-a503120d-0bcf-4929-ae6b-4f768d476326')\"\n",
              "              title=\"Convert this dataframe to an interactive table.\"\n",
              "              style=\"display:none;\">\n",
              "        \n",
              "  <svg xmlns=\"http://www.w3.org/2000/svg\" height=\"24px\"viewBox=\"0 0 24 24\"\n",
              "       width=\"24px\">\n",
              "    <path d=\"M0 0h24v24H0V0z\" fill=\"none\"/>\n",
              "    <path d=\"M18.56 5.44l.94 2.06.94-2.06 2.06-.94-2.06-.94-.94-2.06-.94 2.06-2.06.94zm-11 1L8.5 8.5l.94-2.06 2.06-.94-2.06-.94L8.5 2.5l-.94 2.06-2.06.94zm10 10l.94 2.06.94-2.06 2.06-.94-2.06-.94-.94-2.06-.94 2.06-2.06.94z\"/><path d=\"M17.41 7.96l-1.37-1.37c-.4-.4-.92-.59-1.43-.59-.52 0-1.04.2-1.43.59L10.3 9.45l-7.72 7.72c-.78.78-.78 2.05 0 2.83L4 21.41c.39.39.9.59 1.41.59.51 0 1.02-.2 1.41-.59l7.78-7.78 2.81-2.81c.8-.78.8-2.07 0-2.86zM5.41 20L4 18.59l7.72-7.72 1.47 1.35L5.41 20z\"/>\n",
              "  </svg>\n",
              "      </button>\n",
              "      \n",
              "  <style>\n",
              "    .colab-df-container {\n",
              "      display:flex;\n",
              "      flex-wrap:wrap;\n",
              "      gap: 12px;\n",
              "    }\n",
              "\n",
              "    .colab-df-convert {\n",
              "      background-color: #E8F0FE;\n",
              "      border: none;\n",
              "      border-radius: 50%;\n",
              "      cursor: pointer;\n",
              "      display: none;\n",
              "      fill: #1967D2;\n",
              "      height: 32px;\n",
              "      padding: 0 0 0 0;\n",
              "      width: 32px;\n",
              "    }\n",
              "\n",
              "    .colab-df-convert:hover {\n",
              "      background-color: #E2EBFA;\n",
              "      box-shadow: 0px 1px 2px rgba(60, 64, 67, 0.3), 0px 1px 3px 1px rgba(60, 64, 67, 0.15);\n",
              "      fill: #174EA6;\n",
              "    }\n",
              "\n",
              "    [theme=dark] .colab-df-convert {\n",
              "      background-color: #3B4455;\n",
              "      fill: #D2E3FC;\n",
              "    }\n",
              "\n",
              "    [theme=dark] .colab-df-convert:hover {\n",
              "      background-color: #434B5C;\n",
              "      box-shadow: 0px 1px 3px 1px rgba(0, 0, 0, 0.15);\n",
              "      filter: drop-shadow(0px 1px 2px rgba(0, 0, 0, 0.3));\n",
              "      fill: #FFFFFF;\n",
              "    }\n",
              "  </style>\n",
              "\n",
              "      <script>\n",
              "        const buttonEl =\n",
              "          document.querySelector('#df-a503120d-0bcf-4929-ae6b-4f768d476326 button.colab-df-convert');\n",
              "        buttonEl.style.display =\n",
              "          google.colab.kernel.accessAllowed ? 'block' : 'none';\n",
              "\n",
              "        async function convertToInteractive(key) {\n",
              "          const element = document.querySelector('#df-a503120d-0bcf-4929-ae6b-4f768d476326');\n",
              "          const dataTable =\n",
              "            await google.colab.kernel.invokeFunction('convertToInteractive',\n",
              "                                                     [key], {});\n",
              "          if (!dataTable) return;\n",
              "\n",
              "          const docLinkHtml = 'Like what you see? Visit the ' +\n",
              "            '<a target=\"_blank\" href=https://colab.research.google.com/notebooks/data_table.ipynb>data table notebook</a>'\n",
              "            + ' to learn more about interactive tables.';\n",
              "          element.innerHTML = '';\n",
              "          dataTable['output_type'] = 'display_data';\n",
              "          await google.colab.output.renderOutput(dataTable, element);\n",
              "          const docLink = document.createElement('div');\n",
              "          docLink.innerHTML = docLinkHtml;\n",
              "          element.appendChild(docLink);\n",
              "        }\n",
              "      </script>\n",
              "    </div>\n",
              "  </div>\n",
              "  "
            ]
          },
          "metadata": {},
          "execution_count": 93
        }
      ]
    },
    {
      "cell_type": "markdown",
      "source": [
        "embaralhar nossos dados"
      ],
      "metadata": {
        "id": "mo_VMwjls586"
      }
    },
    {
      "cell_type": "code",
      "source": [
        "required_df = required_df.sample(frac=1)\n",
        "required_df.head()"
      ],
      "metadata": {
        "colab": {
          "base_uri": "https://localhost:8080/",
          "height": 206
        },
        "id": "Dj46Z3O3s19_",
        "outputId": "5a90c546-5106-4e6a-f34b-3a040284b821"
      },
      "execution_count": 94,
      "outputs": [
        {
          "output_type": "execute_result",
          "data": {
            "text/plain": [
              "                                                  text      target label  \\\n",
              "641  Trump EXPLODE em colapso matinal acusando o pr...         NaN  FAKE   \n",
              "445  O Ministro da Saúde da África do Sul diz que o...         NaN  FAKE   \n",
              "519  Lula diz que Auxílio Brasil acaba em dezembro,...         NaN  FAKE   \n",
              "315  senadora berrava gopi gopi durante impeachment...         NaN  FAKE   \n",
              "211  Enquanto a nova primeira-ministra Liz Truss se...  Verdadeiro  True   \n",
              "\n",
              "     class  target  \n",
              "641      0   Falso  \n",
              "445      0   Falso  \n",
              "519      0   Falso  \n",
              "315      0   Falso  \n",
              "211      1     NaN  "
            ],
            "text/html": [
              "\n",
              "  <div id=\"df-3b9ffe0a-e803-4280-8e20-0e17919aa624\">\n",
              "    <div class=\"colab-df-container\">\n",
              "      <div>\n",
              "<style scoped>\n",
              "    .dataframe tbody tr th:only-of-type {\n",
              "        vertical-align: middle;\n",
              "    }\n",
              "\n",
              "    .dataframe tbody tr th {\n",
              "        vertical-align: top;\n",
              "    }\n",
              "\n",
              "    .dataframe thead th {\n",
              "        text-align: right;\n",
              "    }\n",
              "</style>\n",
              "<table border=\"1\" class=\"dataframe\">\n",
              "  <thead>\n",
              "    <tr style=\"text-align: right;\">\n",
              "      <th></th>\n",
              "      <th>text</th>\n",
              "      <th>target</th>\n",
              "      <th>label</th>\n",
              "      <th>class</th>\n",
              "      <th>target</th>\n",
              "    </tr>\n",
              "  </thead>\n",
              "  <tbody>\n",
              "    <tr>\n",
              "      <th>641</th>\n",
              "      <td>Trump EXPLODE em colapso matinal acusando o pr...</td>\n",
              "      <td>NaN</td>\n",
              "      <td>FAKE</td>\n",
              "      <td>0</td>\n",
              "      <td>Falso</td>\n",
              "    </tr>\n",
              "    <tr>\n",
              "      <th>445</th>\n",
              "      <td>O Ministro da Saúde da África do Sul diz que o...</td>\n",
              "      <td>NaN</td>\n",
              "      <td>FAKE</td>\n",
              "      <td>0</td>\n",
              "      <td>Falso</td>\n",
              "    </tr>\n",
              "    <tr>\n",
              "      <th>519</th>\n",
              "      <td>Lula diz que Auxílio Brasil acaba em dezembro,...</td>\n",
              "      <td>NaN</td>\n",
              "      <td>FAKE</td>\n",
              "      <td>0</td>\n",
              "      <td>Falso</td>\n",
              "    </tr>\n",
              "    <tr>\n",
              "      <th>315</th>\n",
              "      <td>senadora berrava gopi gopi durante impeachment...</td>\n",
              "      <td>NaN</td>\n",
              "      <td>FAKE</td>\n",
              "      <td>0</td>\n",
              "      <td>Falso</td>\n",
              "    </tr>\n",
              "    <tr>\n",
              "      <th>211</th>\n",
              "      <td>Enquanto a nova primeira-ministra Liz Truss se...</td>\n",
              "      <td>Verdadeiro</td>\n",
              "      <td>True</td>\n",
              "      <td>1</td>\n",
              "      <td>NaN</td>\n",
              "    </tr>\n",
              "  </tbody>\n",
              "</table>\n",
              "</div>\n",
              "      <button class=\"colab-df-convert\" onclick=\"convertToInteractive('df-3b9ffe0a-e803-4280-8e20-0e17919aa624')\"\n",
              "              title=\"Convert this dataframe to an interactive table.\"\n",
              "              style=\"display:none;\">\n",
              "        \n",
              "  <svg xmlns=\"http://www.w3.org/2000/svg\" height=\"24px\"viewBox=\"0 0 24 24\"\n",
              "       width=\"24px\">\n",
              "    <path d=\"M0 0h24v24H0V0z\" fill=\"none\"/>\n",
              "    <path d=\"M18.56 5.44l.94 2.06.94-2.06 2.06-.94-2.06-.94-.94-2.06-.94 2.06-2.06.94zm-11 1L8.5 8.5l.94-2.06 2.06-.94-2.06-.94L8.5 2.5l-.94 2.06-2.06.94zm10 10l.94 2.06.94-2.06 2.06-.94-2.06-.94-.94-2.06-.94 2.06-2.06.94z\"/><path d=\"M17.41 7.96l-1.37-1.37c-.4-.4-.92-.59-1.43-.59-.52 0-1.04.2-1.43.59L10.3 9.45l-7.72 7.72c-.78.78-.78 2.05 0 2.83L4 21.41c.39.39.9.59 1.41.59.51 0 1.02-.2 1.41-.59l7.78-7.78 2.81-2.81c.8-.78.8-2.07 0-2.86zM5.41 20L4 18.59l7.72-7.72 1.47 1.35L5.41 20z\"/>\n",
              "  </svg>\n",
              "      </button>\n",
              "      \n",
              "  <style>\n",
              "    .colab-df-container {\n",
              "      display:flex;\n",
              "      flex-wrap:wrap;\n",
              "      gap: 12px;\n",
              "    }\n",
              "\n",
              "    .colab-df-convert {\n",
              "      background-color: #E8F0FE;\n",
              "      border: none;\n",
              "      border-radius: 50%;\n",
              "      cursor: pointer;\n",
              "      display: none;\n",
              "      fill: #1967D2;\n",
              "      height: 32px;\n",
              "      padding: 0 0 0 0;\n",
              "      width: 32px;\n",
              "    }\n",
              "\n",
              "    .colab-df-convert:hover {\n",
              "      background-color: #E2EBFA;\n",
              "      box-shadow: 0px 1px 2px rgba(60, 64, 67, 0.3), 0px 1px 3px 1px rgba(60, 64, 67, 0.15);\n",
              "      fill: #174EA6;\n",
              "    }\n",
              "\n",
              "    [theme=dark] .colab-df-convert {\n",
              "      background-color: #3B4455;\n",
              "      fill: #D2E3FC;\n",
              "    }\n",
              "\n",
              "    [theme=dark] .colab-df-convert:hover {\n",
              "      background-color: #434B5C;\n",
              "      box-shadow: 0px 1px 3px 1px rgba(0, 0, 0, 0.15);\n",
              "      filter: drop-shadow(0px 1px 2px rgba(0, 0, 0, 0.3));\n",
              "      fill: #FFFFFF;\n",
              "    }\n",
              "  </style>\n",
              "\n",
              "      <script>\n",
              "        const buttonEl =\n",
              "          document.querySelector('#df-3b9ffe0a-e803-4280-8e20-0e17919aa624 button.colab-df-convert');\n",
              "        buttonEl.style.display =\n",
              "          google.colab.kernel.accessAllowed ? 'block' : 'none';\n",
              "\n",
              "        async function convertToInteractive(key) {\n",
              "          const element = document.querySelector('#df-3b9ffe0a-e803-4280-8e20-0e17919aa624');\n",
              "          const dataTable =\n",
              "            await google.colab.kernel.invokeFunction('convertToInteractive',\n",
              "                                                     [key], {});\n",
              "          if (!dataTable) return;\n",
              "\n",
              "          const docLinkHtml = 'Like what you see? Visit the ' +\n",
              "            '<a target=\"_blank\" href=https://colab.research.google.com/notebooks/data_table.ipynb>data table notebook</a>'\n",
              "            + ' to learn more about interactive tables.';\n",
              "          element.innerHTML = '';\n",
              "          dataTable['output_type'] = 'display_data';\n",
              "          await google.colab.output.renderOutput(dataTable, element);\n",
              "          const docLink = document.createElement('div');\n",
              "          docLink.innerHTML = docLinkHtml;\n",
              "          element.appendChild(docLink);\n",
              "        }\n",
              "      </script>\n",
              "    </div>\n",
              "  </div>\n",
              "  "
            ]
          },
          "metadata": {},
          "execution_count": 94
        }
      ]
    },
    {
      "cell_type": "markdown",
      "source": [
        " limpar nossos dados. Todas as pontuações e caracteres desnecessários, incluindo links de sites, não significam nada para os dados, por isso são removidos antes de serem processados."
      ],
      "metadata": {
        "id": "TCjP0rEXtGMK"
      }
    },
    {
      "cell_type": "code",
      "source": [
        "def remove_un(data):\n",
        "    data = data.lower()\n",
        "    data = re.sub('\\[.*?\\]','',data)\n",
        "    data = re.sub('\\\\W',' ',data)\n",
        "    data = re.sub('https?://\\S+|www.\\S+','',data)\n",
        "    data = re.sub('<.*?>+','',data)\n",
        "    data = re.sub('[%s]'%re.escape(string.punctuation),'',data)\n",
        "    data = re.sub('\\n','',data)\n",
        "    data = re.sub('\\w*\\d\\w','',data)\n",
        "    return data\n",
        "required_df['text']= required_df['text'].apply(remove_un)\n",
        "required_df.head()"
      ],
      "metadata": {
        "colab": {
          "base_uri": "https://localhost:8080/",
          "height": 206
        },
        "id": "XCvYlhv9tBHC",
        "outputId": "29c39498-b0ae-4376-bc7b-fb16c676198d"
      },
      "execution_count": 95,
      "outputs": [
        {
          "output_type": "execute_result",
          "data": {
            "text/plain": [
              "                                                  text      target label  \\\n",
              "641  trump explode em colapso matinal acusando o pr...         NaN  FAKE   \n",
              "445  o ministro da saúde da áfrica do sul diz que o...         NaN  FAKE   \n",
              "519  lula diz que auxílio brasil acaba em dezembro ...         NaN  FAKE   \n",
              "315  senadora berrava gopi gopi durante impeachment...         NaN  FAKE   \n",
              "211  enquanto a nova primeira ministra liz truss se...  Verdadeiro  True   \n",
              "\n",
              "     class  target  \n",
              "641      0   Falso  \n",
              "445      0   Falso  \n",
              "519      0   Falso  \n",
              "315      0   Falso  \n",
              "211      1     NaN  "
            ],
            "text/html": [
              "\n",
              "  <div id=\"df-7fccd126-70ff-46ed-a7e5-d5ea6d51c3ea\">\n",
              "    <div class=\"colab-df-container\">\n",
              "      <div>\n",
              "<style scoped>\n",
              "    .dataframe tbody tr th:only-of-type {\n",
              "        vertical-align: middle;\n",
              "    }\n",
              "\n",
              "    .dataframe tbody tr th {\n",
              "        vertical-align: top;\n",
              "    }\n",
              "\n",
              "    .dataframe thead th {\n",
              "        text-align: right;\n",
              "    }\n",
              "</style>\n",
              "<table border=\"1\" class=\"dataframe\">\n",
              "  <thead>\n",
              "    <tr style=\"text-align: right;\">\n",
              "      <th></th>\n",
              "      <th>text</th>\n",
              "      <th>target</th>\n",
              "      <th>label</th>\n",
              "      <th>class</th>\n",
              "      <th>target</th>\n",
              "    </tr>\n",
              "  </thead>\n",
              "  <tbody>\n",
              "    <tr>\n",
              "      <th>641</th>\n",
              "      <td>trump explode em colapso matinal acusando o pr...</td>\n",
              "      <td>NaN</td>\n",
              "      <td>FAKE</td>\n",
              "      <td>0</td>\n",
              "      <td>Falso</td>\n",
              "    </tr>\n",
              "    <tr>\n",
              "      <th>445</th>\n",
              "      <td>o ministro da saúde da áfrica do sul diz que o...</td>\n",
              "      <td>NaN</td>\n",
              "      <td>FAKE</td>\n",
              "      <td>0</td>\n",
              "      <td>Falso</td>\n",
              "    </tr>\n",
              "    <tr>\n",
              "      <th>519</th>\n",
              "      <td>lula diz que auxílio brasil acaba em dezembro ...</td>\n",
              "      <td>NaN</td>\n",
              "      <td>FAKE</td>\n",
              "      <td>0</td>\n",
              "      <td>Falso</td>\n",
              "    </tr>\n",
              "    <tr>\n",
              "      <th>315</th>\n",
              "      <td>senadora berrava gopi gopi durante impeachment...</td>\n",
              "      <td>NaN</td>\n",
              "      <td>FAKE</td>\n",
              "      <td>0</td>\n",
              "      <td>Falso</td>\n",
              "    </tr>\n",
              "    <tr>\n",
              "      <th>211</th>\n",
              "      <td>enquanto a nova primeira ministra liz truss se...</td>\n",
              "      <td>Verdadeiro</td>\n",
              "      <td>True</td>\n",
              "      <td>1</td>\n",
              "      <td>NaN</td>\n",
              "    </tr>\n",
              "  </tbody>\n",
              "</table>\n",
              "</div>\n",
              "      <button class=\"colab-df-convert\" onclick=\"convertToInteractive('df-7fccd126-70ff-46ed-a7e5-d5ea6d51c3ea')\"\n",
              "              title=\"Convert this dataframe to an interactive table.\"\n",
              "              style=\"display:none;\">\n",
              "        \n",
              "  <svg xmlns=\"http://www.w3.org/2000/svg\" height=\"24px\"viewBox=\"0 0 24 24\"\n",
              "       width=\"24px\">\n",
              "    <path d=\"M0 0h24v24H0V0z\" fill=\"none\"/>\n",
              "    <path d=\"M18.56 5.44l.94 2.06.94-2.06 2.06-.94-2.06-.94-.94-2.06-.94 2.06-2.06.94zm-11 1L8.5 8.5l.94-2.06 2.06-.94-2.06-.94L8.5 2.5l-.94 2.06-2.06.94zm10 10l.94 2.06.94-2.06 2.06-.94-2.06-.94-.94-2.06-.94 2.06-2.06.94z\"/><path d=\"M17.41 7.96l-1.37-1.37c-.4-.4-.92-.59-1.43-.59-.52 0-1.04.2-1.43.59L10.3 9.45l-7.72 7.72c-.78.78-.78 2.05 0 2.83L4 21.41c.39.39.9.59 1.41.59.51 0 1.02-.2 1.41-.59l7.78-7.78 2.81-2.81c.8-.78.8-2.07 0-2.86zM5.41 20L4 18.59l7.72-7.72 1.47 1.35L5.41 20z\"/>\n",
              "  </svg>\n",
              "      </button>\n",
              "      \n",
              "  <style>\n",
              "    .colab-df-container {\n",
              "      display:flex;\n",
              "      flex-wrap:wrap;\n",
              "      gap: 12px;\n",
              "    }\n",
              "\n",
              "    .colab-df-convert {\n",
              "      background-color: #E8F0FE;\n",
              "      border: none;\n",
              "      border-radius: 50%;\n",
              "      cursor: pointer;\n",
              "      display: none;\n",
              "      fill: #1967D2;\n",
              "      height: 32px;\n",
              "      padding: 0 0 0 0;\n",
              "      width: 32px;\n",
              "    }\n",
              "\n",
              "    .colab-df-convert:hover {\n",
              "      background-color: #E2EBFA;\n",
              "      box-shadow: 0px 1px 2px rgba(60, 64, 67, 0.3), 0px 1px 3px 1px rgba(60, 64, 67, 0.15);\n",
              "      fill: #174EA6;\n",
              "    }\n",
              "\n",
              "    [theme=dark] .colab-df-convert {\n",
              "      background-color: #3B4455;\n",
              "      fill: #D2E3FC;\n",
              "    }\n",
              "\n",
              "    [theme=dark] .colab-df-convert:hover {\n",
              "      background-color: #434B5C;\n",
              "      box-shadow: 0px 1px 3px 1px rgba(0, 0, 0, 0.15);\n",
              "      filter: drop-shadow(0px 1px 2px rgba(0, 0, 0, 0.3));\n",
              "      fill: #FFFFFF;\n",
              "    }\n",
              "  </style>\n",
              "\n",
              "      <script>\n",
              "        const buttonEl =\n",
              "          document.querySelector('#df-7fccd126-70ff-46ed-a7e5-d5ea6d51c3ea button.colab-df-convert');\n",
              "        buttonEl.style.display =\n",
              "          google.colab.kernel.accessAllowed ? 'block' : 'none';\n",
              "\n",
              "        async function convertToInteractive(key) {\n",
              "          const element = document.querySelector('#df-7fccd126-70ff-46ed-a7e5-d5ea6d51c3ea');\n",
              "          const dataTable =\n",
              "            await google.colab.kernel.invokeFunction('convertToInteractive',\n",
              "                                                     [key], {});\n",
              "          if (!dataTable) return;\n",
              "\n",
              "          const docLinkHtml = 'Like what you see? Visit the ' +\n",
              "            '<a target=\"_blank\" href=https://colab.research.google.com/notebooks/data_table.ipynb>data table notebook</a>'\n",
              "            + ' to learn more about interactive tables.';\n",
              "          element.innerHTML = '';\n",
              "          dataTable['output_type'] = 'display_data';\n",
              "          await google.colab.output.renderOutput(dataTable, element);\n",
              "          const docLink = document.createElement('div');\n",
              "          docLink.innerHTML = docLinkHtml;\n",
              "          element.appendChild(docLink);\n",
              "        }\n",
              "      </script>\n",
              "    </div>\n",
              "  </div>\n",
              "  "
            ]
          },
          "metadata": {},
          "execution_count": 95
        }
      ]
    },
    {
      "cell_type": "code",
      "source": [
        "required_df.to_csv(\"/content/drive/MyDrive/Colab Notebooks/FakeTrue/preprocessed05.csv\")\n",
        "required_df = pd.read_csv(\"/content/drive/MyDrive/Colab Notebooks/FakeTrue/preprocessed05.csv\")"
      ],
      "metadata": {
        "id": "sd2I7Tqk3J1b"
      },
      "execution_count": 96,
      "outputs": []
    },
    {
      "cell_type": "markdown",
      "source": [
        "**Vectorization**"
      ],
      "metadata": {
        "id": "awhMBJP4weMo"
      }
    },
    {
      "cell_type": "markdown",
      "source": [
        "Vetorização\n",
        "Vetorização é o processo de mapear nossa linguagem natural em valores numéricos que é usado para fazer previsões usando diferentes algoritmos de aprendizagem de máquina.\n",
        "\n",
        "Vamos fazer duas variáveis que representam independentes e dependem de variáveis em cálculos numéricos. A equação linear representada por y=mx+c é usada durante o cálculo interno."
      ],
      "metadata": {
        "id": "hIzKjn9ttP3w"
      }
    },
    {
      "cell_type": "code",
      "source": [
        "x = required_df['text']\n",
        "y = required_df['class']"
      ],
      "metadata": {
        "id": "h6dBl6yUtRSS"
      },
      "execution_count": 21,
      "outputs": []
    },
    {
      "cell_type": "markdown",
      "source": [
        "Agora vamos dividir os dados de treinamento e teste"
      ],
      "metadata": {
        "id": "Xbg9OY9ftbZa"
      }
    },
    {
      "cell_type": "code",
      "source": [
        "x_train, x_test, y_train,y_test=train_test_split(x,y,test_size=0.25)"
      ],
      "metadata": {
        "id": "kHm07kzDtfQc"
      },
      "execution_count": 22,
      "outputs": []
    },
    {
      "cell_type": "markdown",
      "source": [
        "Usaremos tfidfVectorizer para este projeto. Outros vetorizadores semelhantes como seq_to_seq também podem ser usados"
      ],
      "metadata": {
        "id": "h1tqnO8htiD5"
      }
    },
    {
      "cell_type": "code",
      "source": [
        "from sklearn.feature_extraction.text import TfidfVectorizer\n",
        "vectorization = TfidfVectorizer()\n",
        "xv_train  = vectorization.fit_transform(x_train)\n",
        "xv_test = vectorization.transform(x_test)"
      ],
      "metadata": {
        "id": "KtzEykWQtkiS"
      },
      "execution_count": 23,
      "outputs": []
    },
    {
      "cell_type": "markdown",
      "source": [
        "Modelo de Treinamento\n",
        "Regressão Logística\n",
        "Para este projeto em particular, usaremos regressão logística para treinamento e testes.\n",
        "\n",
        "Vamos começar importando biblioteca"
      ],
      "metadata": {
        "id": "bdgvipk2tnH1"
      }
    },
    {
      "cell_type": "code",
      "source": [
        "from sklearn.linear_model import LogisticRegression"
      ],
      "metadata": {
        "id": "uHW95Z1etpMy"
      },
      "execution_count": 24,
      "outputs": []
    },
    {
      "cell_type": "markdown",
      "source": [
        "**Logistic Regression**"
      ],
      "metadata": {
        "id": "uwcM4Ip2wlFX"
      }
    },
    {
      "cell_type": "markdown",
      "source": [
        "Modelo de treinamento"
      ],
      "metadata": {
        "id": "LwLzVnFTtvSL"
      }
    },
    {
      "cell_type": "code",
      "source": [
        "LR = LogisticRegression()\n",
        "LR.fit(xv_train,y_train)"
      ],
      "metadata": {
        "colab": {
          "base_uri": "https://localhost:8080/"
        },
        "id": "UOa6u7qhtr4d",
        "outputId": "ed45f077-fddc-48ff-e207-85127a577e36"
      },
      "execution_count": 25,
      "outputs": [
        {
          "output_type": "execute_result",
          "data": {
            "text/plain": [
              "LogisticRegression()"
            ]
          },
          "metadata": {},
          "execution_count": 25
        }
      ]
    },
    {
      "cell_type": "code",
      "source": [
        "LR.score(xv_test,y_test)"
      ],
      "metadata": {
        "colab": {
          "base_uri": "https://localhost:8080/"
        },
        "id": "kQ7rt-qctyZA",
        "outputId": "9984a905-b139-4627-c7e9-a8a92fb80a50"
      },
      "execution_count": 26,
      "outputs": [
        {
          "output_type": "execute_result",
          "data": {
            "text/plain": [
              "0.8151515151515152"
            ]
          },
          "metadata": {},
          "execution_count": 26
        }
      ]
    },
    {
      "cell_type": "markdown",
      "source": [
        "O modelo treinado com Regressão Logística é 98% preciso.\n",
        "\n",
        "Agora vamos olhar mais fundo no desempenho com dados de teste e comparar com o nosso modelo original"
      ],
      "metadata": {
        "id": "58TYZUE_t5HB"
      }
    },
    {
      "cell_type": "code",
      "source": [
        "pred_LR = LR.predict(xv_test)\n",
        "print(classification_report(y_test,pred_LR))"
      ],
      "metadata": {
        "colab": {
          "base_uri": "https://localhost:8080/"
        },
        "id": "Xf5OLr2ot1ai",
        "outputId": "450b74ce-544a-4d03-b6a0-80046e49b2f9"
      },
      "execution_count": 27,
      "outputs": [
        {
          "output_type": "stream",
          "name": "stdout",
          "text": [
            "              precision    recall  f1-score   support\n",
            "\n",
            "           0       0.86      0.75      0.80       165\n",
            "           1       0.78      0.88      0.83       165\n",
            "\n",
            "    accuracy                           0.82       330\n",
            "   macro avg       0.82      0.82      0.81       330\n",
            "weighted avg       0.82      0.82      0.81       330\n",
            "\n"
          ]
        }
      ]
    },
    {
      "cell_type": "markdown",
      "source": [
        "**Decision Tree Classification**"
      ],
      "metadata": {
        "id": "EP6rlITMwxVK"
      }
    },
    {
      "cell_type": "code",
      "source": [
        "from sklearn.tree import DecisionTreeClassifier"
      ],
      "metadata": {
        "id": "U1qcTduIwyQn"
      },
      "execution_count": 35,
      "outputs": []
    },
    {
      "cell_type": "code",
      "source": [
        "DT  = DecisionTreeClassifier()\n",
        "DT.fit(xv_train,y_train)"
      ],
      "metadata": {
        "colab": {
          "base_uri": "https://localhost:8080/"
        },
        "id": "nhuPzcXzw2_7",
        "outputId": "9a82ab67-90c8-410d-b7a0-c6ca71686dc2"
      },
      "execution_count": 36,
      "outputs": [
        {
          "output_type": "execute_result",
          "data": {
            "text/plain": [
              "DecisionTreeClassifier()"
            ]
          },
          "metadata": {},
          "execution_count": 36
        }
      ]
    },
    {
      "cell_type": "code",
      "source": [
        "DT.score(xv_test,y_test)"
      ],
      "metadata": {
        "colab": {
          "base_uri": "https://localhost:8080/"
        },
        "id": "H0-585JQw6ev",
        "outputId": "0ec31c1a-a1f6-4735-daee-b808d56eac5f"
      },
      "execution_count": 37,
      "outputs": [
        {
          "output_type": "execute_result",
          "data": {
            "text/plain": [
              "0.7484848484848485"
            ]
          },
          "metadata": {},
          "execution_count": 37
        }
      ]
    },
    {
      "cell_type": "code",
      "source": [
        "pred_DT = DT.predict(xv_test)"
      ],
      "metadata": {
        "id": "JfIZ1h7xw9rG"
      },
      "execution_count": 38,
      "outputs": []
    },
    {
      "cell_type": "code",
      "source": [
        "print(classification_report(y_test,pred_DT))"
      ],
      "metadata": {
        "colab": {
          "base_uri": "https://localhost:8080/"
        },
        "id": "zZAR2E4yxAqw",
        "outputId": "1615d34f-c7d6-486b-9939-3b79eb374cdc"
      },
      "execution_count": 39,
      "outputs": [
        {
          "output_type": "stream",
          "name": "stdout",
          "text": [
            "              precision    recall  f1-score   support\n",
            "\n",
            "           0       0.77      0.71      0.74       165\n",
            "           1       0.73      0.79      0.76       165\n",
            "\n",
            "    accuracy                           0.75       330\n",
            "   macro avg       0.75      0.75      0.75       330\n",
            "weighted avg       0.75      0.75      0.75       330\n",
            "\n"
          ]
        }
      ]
    },
    {
      "cell_type": "markdown",
      "source": [
        "**Gradient Boosting Classifier**"
      ],
      "metadata": {
        "id": "Bj-9PvM7xG2m"
      }
    },
    {
      "cell_type": "code",
      "source": [
        "from sklearn.ensemble import GradientBoostingClassifier"
      ],
      "metadata": {
        "id": "PNXqcJbfxIQb"
      },
      "execution_count": 40,
      "outputs": []
    },
    {
      "cell_type": "code",
      "source": [
        "GBC = GradientBoostingClassifier(random_state=0)\n",
        "GBC.fit(xv_train,y_train)"
      ],
      "metadata": {
        "colab": {
          "base_uri": "https://localhost:8080/"
        },
        "id": "FxdMonutxK83",
        "outputId": "88d93a8b-d57f-4b20-a4a0-09248e64bf1a"
      },
      "execution_count": 41,
      "outputs": [
        {
          "output_type": "execute_result",
          "data": {
            "text/plain": [
              "GradientBoostingClassifier(random_state=0)"
            ]
          },
          "metadata": {},
          "execution_count": 41
        }
      ]
    },
    {
      "cell_type": "code",
      "source": [
        "GBC.score(xv_test,y_test)"
      ],
      "metadata": {
        "colab": {
          "base_uri": "https://localhost:8080/"
        },
        "id": "0Hb5MpzZxPxv",
        "outputId": "bd068351-cc7b-4e50-fc14-1f733be28126"
      },
      "execution_count": 42,
      "outputs": [
        {
          "output_type": "execute_result",
          "data": {
            "text/plain": [
              "0.8121212121212121"
            ]
          },
          "metadata": {},
          "execution_count": 42
        }
      ]
    },
    {
      "cell_type": "code",
      "source": [
        "pred_GBC = GBC.predict(xv_test)"
      ],
      "metadata": {
        "id": "CVtI58EyxUJd"
      },
      "execution_count": 43,
      "outputs": []
    },
    {
      "cell_type": "code",
      "source": [
        "print(classification_report(y_test,pred_GBC))"
      ],
      "metadata": {
        "colab": {
          "base_uri": "https://localhost:8080/"
        },
        "id": "hYVflbI-xXCV",
        "outputId": "1ebf0959-bd58-4717-ad36-21a026991a8b"
      },
      "execution_count": 44,
      "outputs": [
        {
          "output_type": "stream",
          "name": "stdout",
          "text": [
            "              precision    recall  f1-score   support\n",
            "\n",
            "           0       0.81      0.81      0.81       165\n",
            "           1       0.81      0.81      0.81       165\n",
            "\n",
            "    accuracy                           0.81       330\n",
            "   macro avg       0.81      0.81      0.81       330\n",
            "weighted avg       0.81      0.81      0.81       330\n",
            "\n"
          ]
        }
      ]
    },
    {
      "cell_type": "markdown",
      "source": [
        "**Random Forest Classifier**"
      ],
      "metadata": {
        "id": "omH0u7HxxdcH"
      }
    },
    {
      "cell_type": "code",
      "source": [
        "from sklearn.ensemble import RandomForestClassifier"
      ],
      "metadata": {
        "id": "khGKCB3txa_q"
      },
      "execution_count": 45,
      "outputs": []
    },
    {
      "cell_type": "code",
      "source": [
        "RFC = RandomForestClassifier(random_state=0)\n",
        "RFC.fit(xv_train,y_train)"
      ],
      "metadata": {
        "colab": {
          "base_uri": "https://localhost:8080/"
        },
        "id": "fbEDBAnYxh2X",
        "outputId": "b23f16d8-856f-438a-9e44-67b78446b6cb"
      },
      "execution_count": 46,
      "outputs": [
        {
          "output_type": "execute_result",
          "data": {
            "text/plain": [
              "RandomForestClassifier(random_state=0)"
            ]
          },
          "metadata": {},
          "execution_count": 46
        }
      ]
    },
    {
      "cell_type": "code",
      "source": [
        "RFC.score(xv_test,y_test)"
      ],
      "metadata": {
        "colab": {
          "base_uri": "https://localhost:8080/"
        },
        "id": "JUvXlh3Mxk4U",
        "outputId": "bf01838b-d867-45a5-c986-db64c6960c0a"
      },
      "execution_count": 47,
      "outputs": [
        {
          "output_type": "execute_result",
          "data": {
            "text/plain": [
              "0.8212121212121212"
            ]
          },
          "metadata": {},
          "execution_count": 47
        }
      ]
    },
    {
      "cell_type": "code",
      "source": [
        "pred_RFC = RFC.predict(xv_test)"
      ],
      "metadata": {
        "id": "YVtGVuBixpya"
      },
      "execution_count": 48,
      "outputs": []
    },
    {
      "cell_type": "code",
      "source": [
        "print(classification_report(y_test,pred_RFC))"
      ],
      "metadata": {
        "colab": {
          "base_uri": "https://localhost:8080/"
        },
        "id": "uSx1WGkZxq84",
        "outputId": "3b3cdd9a-a5e5-4dcb-ffcc-c90333df311d"
      },
      "execution_count": 49,
      "outputs": [
        {
          "output_type": "stream",
          "name": "stdout",
          "text": [
            "              precision    recall  f1-score   support\n",
            "\n",
            "           0       0.78      0.89      0.83       165\n",
            "           1       0.87      0.75      0.81       165\n",
            "\n",
            "    accuracy                           0.82       330\n",
            "   macro avg       0.83      0.82      0.82       330\n",
            "weighted avg       0.83      0.82      0.82       330\n",
            "\n"
          ]
        }
      ]
    },
    {
      "cell_type": "markdown",
      "source": [
        "**Manual Testing**"
      ],
      "metadata": {
        "id": "dJ_JT4YPxyIB"
      }
    },
    {
      "cell_type": "markdown",
      "source": [
        "O mesmo tipo de treinamento e teste pode ser feito usando outros modelos diferentes. Você pode seguir o link para o link original do GitHub para outros algoritmos de classificação. Este GitHub inclui seguir algoritmos\n",
        "\n",
        "Classificação da Árvore de Decisão\n",
        "Classificador de aumento de gradiente\n",
        "Classificador florestal aleatório"
      ],
      "metadata": {
        "id": "HqrIhDw9t-MP"
      }
    },
    {
      "cell_type": "markdown",
      "source": [
        "Teste manual\n",
        "Agora vamos olhar para testes manuais que são mais intuitivos e interativos."
      ],
      "metadata": {
        "id": "9QEzAETwuF7U"
      }
    },
    {
      "cell_type": "code",
      "source": [
        "def output_label(n):\n",
        "    if n ==0:\n",
        "        return \"Fake News\"\n",
        "    elif n==1:\n",
        "        return \"True News\"\n",
        "    else:\n",
        "        return \"ERROR!!\"\n",
        "def manual_testing(news):\n",
        "    testing_news = {\"text\":[news]}\n",
        "    new_def_test = pd.DataFrame(testing_news)\n",
        "    new_def_test['text'] = new_def_test['text'].apply(remove_un)\n",
        "    new_x_test = new_def_test['text']\n",
        "    new_xv_test = vectorization.transform(new_x_test)\n",
        "    pred_LR = LR.predict(new_xv_test)\n",
        "    pred_DT = DT.predict(new_xv_test)\n",
        "    pred_GBC = GBC.predict(new_xv_test)\n",
        "    pred_RFC = RFC.predict(new_xv_test)\n",
        "    \n",
        "    return print(f'''\\n\n",
        "                    LR Prediction: {output_label(pred_LR)}\\n\n",
        "                    DT Prediction: {output_label(pred_DT)}\\n\n",
        "                    GBC Prediction: {output_label(pred_GBC)}\\n\n",
        "                    RFC Prediction: {output_label(pred_RFC)}\\n\n",
        "                 ''')"
      ],
      "metadata": {
        "id": "XufA70VBuJK5"
      },
      "execution_count": 50,
      "outputs": []
    },
    {
      "cell_type": "markdown",
      "source": [
        "Obtendo texto de entrada do usuário e predindo classificação"
      ],
      "metadata": {
        "id": "5zxfASINuMsC"
      }
    },
    {
      "cell_type": "code",
      "source": [
        "news = input(\"Digite sua mensagem\")\n",
        "manual_testing(news)"
      ],
      "metadata": {
        "colab": {
          "base_uri": "https://localhost:8080/"
        },
        "id": "jn0i_6osuLtZ",
        "outputId": "310ef559-abce-4114-fc25-b48d81a63c10"
      },
      "execution_count": 51,
      "outputs": [
        {
          "output_type": "stream",
          "name": "stdout",
          "text": [
            "Digite sua mensagemrainha da inglaterra morreu\n",
            "\n",
            "\n",
            "                    LR Prediction: Fake News\n",
            "\n",
            "                    DT Prediction: True News\n",
            "\n",
            "                    GBC Prediction: Fake News\n",
            "\n",
            "                    RFC Prediction: Fake News\n",
            "\n",
            "                 \n"
          ]
        }
      ]
    },
    {
      "cell_type": "markdown",
      "source": [
        "Fonte para referência do algoritmo teste: \n",
        "https://medium.com/caret-systems/fake-news-detection-with-python-aaf965c24861"
      ],
      "metadata": {
        "id": "CFjnv8uFuQ-p"
      }
    }
  ]
}